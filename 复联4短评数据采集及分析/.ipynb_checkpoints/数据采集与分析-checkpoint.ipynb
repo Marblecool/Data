{
 "cells": [
  {
   "cell_type": "code",
   "execution_count": 1,
   "metadata": {},
   "outputs": [
    {
     "name": "stderr",
     "output_type": "stream",
     "text": [
      "D:\\Anaconda\\lib\\importlib\\_bootstrap.py:219: RuntimeWarning: numpy.ufunc size changed, may indicate binary incompatibility. Expected 192 from C header, got 216 from PyObject\n",
      "  return f(*args, **kwds)\n"
     ]
    },
    {
     "name": "stdout",
     "output_type": "stream",
     "text": [
      "导入成功\n"
     ]
    }
   ],
   "source": [
    "import requests\n",
    "from bs4 import BeautifulSoup\n",
    "\n",
    "import numpy as np\n",
    "import pandas as pd\n",
    "import matplotlib.pyplot as plt\n",
    "%matplotlib inline\n",
    "\n",
    "import warnings\n",
    "warnings.filterwarnings('ignore')\n",
    "\n",
    "print('导入成功')"
   ]
  },
  {
   "cell_type": "markdown",
   "metadata": {},
   "source": [
    "### 1、数据采集"
   ]
  },
  {
   "cell_type": "code",
   "execution_count": 5,
   "metadata": {},
   "outputs": [
    {
     "name": "stdout",
     "output_type": "stream",
     "text": [
      "{'评论者': '棠枫海', '评分': 50, '评论时间': '2019-04-24', '有用数量': 34992, '评论内容': '如果你不喜欢这部电影，说明他不是为你准备的，故事的终章是为读过故事的人准备的'}\n"
     ]
    }
   ],
   "source": [
    "# 网页数据采集测试\n",
    "url = 'https://movie.douban.com/subject/26100958/comments?start=0&limit=20&sort=new_score&status=P'\n",
    "req = requests.get(url = url)\n",
    "req.encoding = 'utf-8'\n",
    "# 访问网页\n",
    "soup = BeautifulSoup(req.text)\n",
    "# 解析网页\n",
    "infor_lst = soup.find('div',id=\"comments\").find_all('div',class_=\"comment-item\")\n",
    "# 获取所有招聘标签div\n",
    "dict = {}\n",
    "for infor in infor_lst[:1]:\n",
    "    dict['评论者'] = infor.find('span',class_=\"comment-info\").find('a').text\n",
    "    dict['评分'] = int(infor.find('span',class_=\"comment-info\").find_all('span')[1]['class'][0][-2:])\n",
    "    dict['评论时间'] = infor.find('span',class_=\"comment-time\").text.replace(' ','').replace('\\n','')\n",
    "    dict['有用数量'] = int(infor.find('span',class_=\"votes\").text)\n",
    "    dict['评论内容'] = infor.find('p').text.replace('\\n','')\n",
    "\n",
    "print(dict)"
   ]
  },
  {
   "cell_type": "code",
   "execution_count": 6,
   "metadata": {},
   "outputs": [
    {
     "data": {
      "text/plain": [
       "[{'评论者': '棠枫海',\n",
       "  '评分': 50,\n",
       "  '评论时间': '2019-04-24',\n",
       "  '有用数量': 34992,\n",
       "  '评论内容': '如果你不喜欢这部电影，说明他不是为你准备的，故事的终章是为读过故事的人准备的'},\n",
       " {'评论者': 'Tel',\n",
       "  '评分': 40,\n",
       "  '评论时间': '2019-04-24',\n",
       "  '有用数量': 19128,\n",
       "  '评论内容': '我是一个90后，我曾经很羡慕“上一代人”：40年前的观众，他们的影院里有星战正传三部曲的落幕；20年前的观众，能在影院里看到指环王系列的终章。影迷们的悲欢并不相通，但现在我们也有了共同的记忆：漫威电影宇宙。谢谢你，《复仇者联盟》。'}]"
      ]
     },
     "execution_count": 6,
     "metadata": {},
     "output_type": "execute_result"
    }
   ],
   "source": [
    "# 构建网页信息获取函数\n",
    "def get_data(urli):\n",
    "    try:\n",
    "        ri = requests.get(url = u)\n",
    "        ri.encoding = 'utf-8'\n",
    "            # 访问网页\n",
    "        soupi = BeautifulSoup(ri.text)\n",
    "            # 解析网页\n",
    "        infor_lst = soupi.find('div',id=\"comments\").find_all('div',class_=\"comment-item\")\n",
    "            # 获取所有招聘标签div\n",
    "        datalsti = []\n",
    "        for infor in infor_lst[:]:\n",
    "            dic = {}\n",
    "            dic['评论者'] = infor.find('span',class_=\"comment-info\").find('a').text\n",
    "            dic['评分'] = int(infor.find('span',class_=\"comment-info\").find_all('span')[1]['class'][0][-2:])\n",
    "            dic['评论时间'] = infor.find('span',class_=\"comment-time\").text.replace(' ','').replace('\\n','')\n",
    "            dic['有用数量'] = int(infor.find('span',class_=\"votes\").text)\n",
    "            dic['评论内容'] = infor.find('p').text.replace('\\n','')\n",
    "            datalsti.append(dic)\n",
    "        return datalsti\n",
    "    except:\n",
    "        return []\n",
    "\n",
    "u = 'https://movie.douban.com/subject/26100958/comments?start=0&limit=20&sort=new_score&status=P'\n",
    "get_data(u)[:2]"
   ]
  },
  {
   "cell_type": "code",
   "execution_count": 7,
   "metadata": {},
   "outputs": [
    {
     "data": {
      "text/plain": [
       "['https://movie.douban.com/subject/26100958/comments?start=0&limit=20&sort=new_score&status=P',\n",
       " 'https://movie.douban.com/subject/26100958/comments?start=20&limit=20&sort=new_score&status=P']"
      ]
     },
     "execution_count": 7,
     "metadata": {},
     "output_type": "execute_result"
    }
   ],
   "source": [
    "def get_urls(n):\n",
    "    urllst = []\n",
    "    for i in range(n):\n",
    "        urllst.append('https://movie.douban.com/subject/26100958/comments?start=%i&limit=20&sort=new_score&status=P' % (i*20))\n",
    "    return urllst\n",
    "\n",
    "urllsts = get_urls(50)\n",
    "urllsts[:2]"
   ]
  },
  {
   "cell_type": "code",
   "execution_count": 11,
   "metadata": {},
   "outputs": [
    {
     "name": "stdout",
     "output_type": "stream",
     "text": [
      "成功获取20条数据\n",
      "成功获取40条数据\n",
      "成功获取60条数据\n",
      "成功获取80条数据\n",
      "成功获取100条数据\n",
      "成功获取120条数据\n",
      "成功获取140条数据\n",
      "成功获取160条数据\n",
      "成功获取180条数据\n",
      "成功获取200条数据\n",
      "成功获取220条数据\n",
      "成功获取240条数据\n",
      "成功获取260条数据\n",
      "成功获取280条数据\n",
      "成功获取300条数据\n",
      "成功获取320条数据\n",
      "成功获取340条数据\n",
      "成功获取360条数据\n",
      "成功获取380条数据\n",
      "成功获取400条数据\n",
      "成功获取420条数据\n",
      "成功获取440条数据\n",
      "成功获取460条数据\n",
      "成功获取480条数据\n",
      "成功获取500条数据\n",
      "成功获取520条数据\n",
      "成功获取540条数据\n",
      "成功获取560条数据\n",
      "成功获取580条数据\n",
      "成功获取600条数据\n",
      "成功获取620条数据\n",
      "成功获取640条数据\n",
      "成功获取660条数据\n",
      "成功获取680条数据\n",
      "成功获取700条数据\n",
      "成功获取720条数据\n",
      "成功获取740条数据\n",
      "成功获取760条数据\n",
      "成功获取780条数据\n",
      "成功获取800条数据\n",
      "成功获取820条数据\n",
      "成功获取840条数据\n",
      "成功获取860条数据\n",
      "成功获取880条数据\n",
      "成功获取900条数据\n",
      "成功获取920条数据\n",
      "成功获取940条数据\n",
      "成功获取960条数据\n",
      "成功获取980条数据\n",
      "成功获取1000条数据\n"
     ]
    },
    {
     "data": {
      "text/plain": [
       "[{'评论者': '棠枫海',\n",
       "  '评分': 50,\n",
       "  '评论时间': '2019-04-24',\n",
       "  '有用数量': 34992,\n",
       "  '评论内容': '如果你不喜欢这部电影，说明他不是为你准备的，故事的终章是为读过故事的人准备的'},\n",
       " {'评论者': 'Tel',\n",
       "  '评分': 40,\n",
       "  '评论时间': '2019-04-24',\n",
       "  '有用数量': 19128,\n",
       "  '评论内容': '我是一个90后，我曾经很羡慕“上一代人”：40年前的观众，他们的影院里有星战正传三部曲的落幕；20年前的观众，能在影院里看到指环王系列的终章。影迷们的悲欢并不相通，但现在我们也有了共同的记忆：漫威电影宇宙。谢谢你，《复仇者联盟》。'}]"
      ]
     },
     "execution_count": 11,
     "metadata": {},
     "output_type": "execute_result"
    }
   ],
   "source": [
    "# 批量获取数据\n",
    "\n",
    "datalst = []\n",
    "n = 1\n",
    "for u in urllsts:\n",
    "    datalst.extend(get_data(u))\n",
    "    print('成功获取%i条数据' % (n*20))\n",
    "    n += 1\n",
    "\n",
    "datalst[:2]"
   ]
  },
  {
   "cell_type": "code",
   "execution_count": 12,
   "metadata": {},
   "outputs": [
    {
     "data": {
      "text/html": [
       "<div>\n",
       "<style scoped>\n",
       "    .dataframe tbody tr th:only-of-type {\n",
       "        vertical-align: middle;\n",
       "    }\n",
       "\n",
       "    .dataframe tbody tr th {\n",
       "        vertical-align: top;\n",
       "    }\n",
       "\n",
       "    .dataframe thead th {\n",
       "        text-align: right;\n",
       "    }\n",
       "</style>\n",
       "<table border=\"1\" class=\"dataframe\">\n",
       "  <thead>\n",
       "    <tr style=\"text-align: right;\">\n",
       "      <th></th>\n",
       "      <th>评论者</th>\n",
       "      <th>评分</th>\n",
       "      <th>评论时间</th>\n",
       "      <th>有用数量</th>\n",
       "      <th>评论内容</th>\n",
       "    </tr>\n",
       "  </thead>\n",
       "  <tbody>\n",
       "    <tr>\n",
       "      <td>0</td>\n",
       "      <td>棠枫海</td>\n",
       "      <td>50</td>\n",
       "      <td>2019-04-24</td>\n",
       "      <td>34992</td>\n",
       "      <td>如果你不喜欢这部电影，说明他不是为你准备的，故事的终章是为读过故事的人准备的</td>\n",
       "    </tr>\n",
       "    <tr>\n",
       "      <td>1</td>\n",
       "      <td>Tel</td>\n",
       "      <td>40</td>\n",
       "      <td>2019-04-24</td>\n",
       "      <td>19128</td>\n",
       "      <td>我是一个90后，我曾经很羡慕“上一代人”：40年前的观众，他们的影院里有星战正传三部曲的落幕...</td>\n",
       "    </tr>\n",
       "    <tr>\n",
       "      <td>2</td>\n",
       "      <td>小轨</td>\n",
       "      <td>30</td>\n",
       "      <td>2019-04-24</td>\n",
       "      <td>14346</td>\n",
       "      <td>不打感情分也就合格水准，通篇流水账观感还不如第三部，虽然我一直认为这类片无所谓剧透，不过为了...</td>\n",
       "    </tr>\n",
       "    <tr>\n",
       "      <td>3</td>\n",
       "      <td>感谢政府感谢党</td>\n",
       "      <td>30</td>\n",
       "      <td>2019-04-24</td>\n",
       "      <td>2658</td>\n",
       "      <td>三个小时剧情太拖沓，成了七龙珠寻宝了，堆砌拼凑的剧情，真是不知道浪费睡觉时间来看首映。</td>\n",
       "    </tr>\n",
       "    <tr>\n",
       "      <td>4</td>\n",
       "      <td>凌睿</td>\n",
       "      <td>50</td>\n",
       "      <td>2019-04-24</td>\n",
       "      <td>14989</td>\n",
       "      <td>托尼说好要回归家庭、陪伴家人，可最终还是选择了重出江湖，因为责任和使命，因为“我是钢铁侠”。...</td>\n",
       "    </tr>\n",
       "    <tr>\n",
       "      <td>5</td>\n",
       "      <td>深夜的阿斯伯格</td>\n",
       "      <td>40</td>\n",
       "      <td>2019-04-24</td>\n",
       "      <td>6281</td>\n",
       "      <td>对某人而言这就叫有始有终吧，这个时代的星战（90后终于有长达十年的情怀和回忆了）</td>\n",
       "    </tr>\n",
       "    <tr>\n",
       "      <td>6</td>\n",
       "      <td>桃桃林林</td>\n",
       "      <td>40</td>\n",
       "      <td>2019-04-24</td>\n",
       "      <td>5984</td>\n",
       "      <td>用三个小时的时间，与大家告别。是集结，是重聚，是告别，是牺牲。作为系列的最终篇，确实已经努力...</td>\n",
       "    </tr>\n",
       "    <tr>\n",
       "      <td>7</td>\n",
       "      <td>sunmmr丶sea</td>\n",
       "      <td>40</td>\n",
       "      <td>2019-04-24</td>\n",
       "      <td>5674</td>\n",
       "      <td>搞不懂惊队吹这么久是为什么啥……感觉就是打了个酱油🙄🙄🙄</td>\n",
       "    </tr>\n",
       "    <tr>\n",
       "      <td>8</td>\n",
       "      <td>[已注销]</td>\n",
       "      <td>40</td>\n",
       "      <td>2019-04-24</td>\n",
       "      <td>1834</td>\n",
       "      <td>一个女人，一直以凡人的血肉之躯出生入死，她从未有过真正意义上的家人，从未和哪个喜欢过的人真正...</td>\n",
       "    </tr>\n",
       "    <tr>\n",
       "      <td>9</td>\n",
       "      <td>法兰西胶片</td>\n",
       "      <td>40</td>\n",
       "      <td>2019-04-24</td>\n",
       "      <td>1342</td>\n",
       "      <td>漫画里的奇迹一个接一个，电影里的回扣一层接一层，和一切的起点说再见了。这就是，逻辑无能为力，...</td>\n",
       "    </tr>\n",
       "  </tbody>\n",
       "</table>\n",
       "</div>"
      ],
      "text/plain": [
       "          评论者  评分        评论时间   有用数量  \\\n",
       "0         棠枫海  50  2019-04-24  34992   \n",
       "1         Tel  40  2019-04-24  19128   \n",
       "2          小轨  30  2019-04-24  14346   \n",
       "3     感谢政府感谢党  30  2019-04-24   2658   \n",
       "4          凌睿  50  2019-04-24  14989   \n",
       "5     深夜的阿斯伯格  40  2019-04-24   6281   \n",
       "6        桃桃林林  40  2019-04-24   5984   \n",
       "7  sunmmr丶sea  40  2019-04-24   5674   \n",
       "8       [已注销]  40  2019-04-24   1834   \n",
       "9       法兰西胶片  40  2019-04-24   1342   \n",
       "\n",
       "                                                评论内容  \n",
       "0             如果你不喜欢这部电影，说明他不是为你准备的，故事的终章是为读过故事的人准备的  \n",
       "1  我是一个90后，我曾经很羡慕“上一代人”：40年前的观众，他们的影院里有星战正传三部曲的落幕...  \n",
       "2  不打感情分也就合格水准，通篇流水账观感还不如第三部，虽然我一直认为这类片无所谓剧透，不过为了...  \n",
       "3        三个小时剧情太拖沓，成了七龙珠寻宝了，堆砌拼凑的剧情，真是不知道浪费睡觉时间来看首映。  \n",
       "4  托尼说好要回归家庭、陪伴家人，可最终还是选择了重出江湖，因为责任和使命，因为“我是钢铁侠”。...  \n",
       "5           对某人而言这就叫有始有终吧，这个时代的星战（90后终于有长达十年的情怀和回忆了）  \n",
       "6  用三个小时的时间，与大家告别。是集结，是重聚，是告别，是牺牲。作为系列的最终篇，确实已经努力...  \n",
       "7                       搞不懂惊队吹这么久是为什么啥……感觉就是打了个酱油🙄🙄🙄  \n",
       "8  一个女人，一直以凡人的血肉之躯出生入死，她从未有过真正意义上的家人，从未和哪个喜欢过的人真正...  \n",
       "9  漫画里的奇迹一个接一个，电影里的回扣一层接一层，和一切的起点说再见了。这就是，逻辑无能为力，...  "
      ]
     },
     "execution_count": 12,
     "metadata": {},
     "output_type": "execute_result"
    }
   ],
   "source": [
    "# 数据格式转换\n",
    "\n",
    "df = pd.DataFrame(datalst)\n",
    "df.iloc[:10]"
   ]
  },
  {
   "cell_type": "markdown",
   "metadata": {},
   "source": [
    "### 2、查看数据"
   ]
  },
  {
   "cell_type": "code",
   "execution_count": 13,
   "metadata": {},
   "outputs": [
    {
     "data": {
      "text/html": [
       "<div>\n",
       "<style scoped>\n",
       "    .dataframe tbody tr th:only-of-type {\n",
       "        vertical-align: middle;\n",
       "    }\n",
       "\n",
       "    .dataframe tbody tr th {\n",
       "        vertical-align: top;\n",
       "    }\n",
       "\n",
       "    .dataframe thead th {\n",
       "        text-align: right;\n",
       "    }\n",
       "</style>\n",
       "<table border=\"1\" class=\"dataframe\">\n",
       "  <thead>\n",
       "    <tr style=\"text-align: right;\">\n",
       "      <th></th>\n",
       "      <th>评论者</th>\n",
       "      <th>评分</th>\n",
       "      <th>评论时间</th>\n",
       "      <th>有用数量</th>\n",
       "      <th>评论内容</th>\n",
       "      <th>评论字数</th>\n",
       "    </tr>\n",
       "  </thead>\n",
       "  <tbody>\n",
       "    <tr>\n",
       "      <td>0</td>\n",
       "      <td>棠枫海</td>\n",
       "      <td>50</td>\n",
       "      <td>2019-04-24</td>\n",
       "      <td>34992</td>\n",
       "      <td>如果你不喜欢这部电影，说明他不是为你准备的，故事的终章是为读过故事的人准备的</td>\n",
       "      <td>38</td>\n",
       "    </tr>\n",
       "    <tr>\n",
       "      <td>1</td>\n",
       "      <td>Tel</td>\n",
       "      <td>40</td>\n",
       "      <td>2019-04-24</td>\n",
       "      <td>19128</td>\n",
       "      <td>我是一个90后，我曾经很羡慕“上一代人”：40年前的观众，他们的影院里有星战正传三部曲的落幕...</td>\n",
       "      <td>115</td>\n",
       "    </tr>\n",
       "    <tr>\n",
       "      <td>2</td>\n",
       "      <td>小轨</td>\n",
       "      <td>30</td>\n",
       "      <td>2019-04-24</td>\n",
       "      <td>14346</td>\n",
       "      <td>不打感情分也就合格水准，通篇流水账观感还不如第三部，虽然我一直认为这类片无所谓剧透，不过为了...</td>\n",
       "      <td>128</td>\n",
       "    </tr>\n",
       "    <tr>\n",
       "      <td>3</td>\n",
       "      <td>感谢政府感谢党</td>\n",
       "      <td>30</td>\n",
       "      <td>2019-04-24</td>\n",
       "      <td>2658</td>\n",
       "      <td>三个小时剧情太拖沓，成了七龙珠寻宝了，堆砌拼凑的剧情，真是不知道浪费睡觉时间来看首映。</td>\n",
       "      <td>43</td>\n",
       "    </tr>\n",
       "    <tr>\n",
       "      <td>4</td>\n",
       "      <td>凌睿</td>\n",
       "      <td>50</td>\n",
       "      <td>2019-04-24</td>\n",
       "      <td>14989</td>\n",
       "      <td>托尼说好要回归家庭、陪伴家人，可最终还是选择了重出江湖，因为责任和使命，因为“我是钢铁侠”。...</td>\n",
       "      <td>335</td>\n",
       "    </tr>\n",
       "  </tbody>\n",
       "</table>\n",
       "</div>"
      ],
      "text/plain": [
       "       评论者  评分        评论时间   有用数量  \\\n",
       "0      棠枫海  50  2019-04-24  34992   \n",
       "1      Tel  40  2019-04-24  19128   \n",
       "2       小轨  30  2019-04-24  14346   \n",
       "3  感谢政府感谢党  30  2019-04-24   2658   \n",
       "4       凌睿  50  2019-04-24  14989   \n",
       "\n",
       "                                                评论内容  评论字数  \n",
       "0             如果你不喜欢这部电影，说明他不是为你准备的，故事的终章是为读过故事的人准备的    38  \n",
       "1  我是一个90后，我曾经很羡慕“上一代人”：40年前的观众，他们的影院里有星战正传三部曲的落幕...   115  \n",
       "2  不打感情分也就合格水准，通篇流水账观感还不如第三部，虽然我一直认为这类片无所谓剧透，不过为了...   128  \n",
       "3        三个小时剧情太拖沓，成了七龙珠寻宝了，堆砌拼凑的剧情，真是不知道浪费睡觉时间来看首映。    43  \n",
       "4  托尼说好要回归家庭、陪伴家人，可最终还是选择了重出江湖，因为责任和使命，因为“我是钢铁侠”。...   335  "
      ]
     },
     "execution_count": 13,
     "metadata": {},
     "output_type": "execute_result"
    },
    {
     "data": {
      "image/png": "[encoded data removed]",
      "text/plain": [
       "<Figure size 864x360 with 1 Axes>"
      ]
     },
     "metadata": {
      "needs_background": "light"
     },
     "output_type": "display_data"
    }
   ],
   "source": [
    "# 评论字数数据分布\n",
    "\n",
    "df['评论字数'] = df['评论内容'].str.len()\n",
    "\n",
    "plt.figure(figsize = (12,5))\n",
    "plt.title('评论字数数据分布')\n",
    "df['评论字数'].hist(bins = 20,edgecolor = 'white')\n",
    "plt.grid(linestyle='--')\n",
    "\n",
    "df.head()"
   ]
  },
  {
   "cell_type": "code",
   "execution_count": 15,
   "metadata": {},
   "outputs": [
    {
     "data": {
      "image/png": "[encoded data removed]",
      "text/plain": [
       "<Figure size 864x360 with 1 Axes>"
      ]
     },
     "metadata": {
      "needs_background": "light"
     },
     "output_type": "display_data"
    }
   ],
   "source": [
    "# 有用数量数据分布\n",
    "\n",
    "plt.figure(figsize = (12,5))\n",
    "plt.title('有用数量数据分布')\n",
    "df['有用数量'].hist(bins = 50,edgecolor = 'white')\n",
    "plt.grid(linestyle='--')"
   ]
  },
  {
   "cell_type": "code",
   "execution_count": 16,
   "metadata": {},
   "outputs": [
    {
     "data": {
      "text/html": [
       "<div>\n",
       "<style scoped>\n",
       "    .dataframe tbody tr th:only-of-type {\n",
       "        vertical-align: middle;\n",
       "    }\n",
       "\n",
       "    .dataframe tbody tr th {\n",
       "        vertical-align: top;\n",
       "    }\n",
       "\n",
       "    .dataframe thead th {\n",
       "        text-align: right;\n",
       "    }\n",
       "</style>\n",
       "<table border=\"1\" class=\"dataframe\">\n",
       "  <thead>\n",
       "    <tr style=\"text-align: right;\">\n",
       "      <th></th>\n",
       "      <th>评论者</th>\n",
       "      <th>评分</th>\n",
       "      <th>评论时间</th>\n",
       "      <th>有用数量</th>\n",
       "      <th>评论内容</th>\n",
       "      <th>评论字数</th>\n",
       "    </tr>\n",
       "  </thead>\n",
       "  <tbody>\n",
       "    <tr>\n",
       "      <td>0</td>\n",
       "      <td>棠枫海</td>\n",
       "      <td>50</td>\n",
       "      <td>2019-04-24</td>\n",
       "      <td>34992</td>\n",
       "      <td>如果你不喜欢这部电影，说明他不是为你准备的，故事的终章是为读过故事的人准备的</td>\n",
       "      <td>38</td>\n",
       "    </tr>\n",
       "    <tr>\n",
       "      <td>1</td>\n",
       "      <td>Tel</td>\n",
       "      <td>40</td>\n",
       "      <td>2019-04-24</td>\n",
       "      <td>19128</td>\n",
       "      <td>我是一个90后，我曾经很羡慕“上一代人”：40年前的观众，他们的影院里有星战正传三部曲的落幕...</td>\n",
       "      <td>115</td>\n",
       "    </tr>\n",
       "    <tr>\n",
       "      <td>4</td>\n",
       "      <td>凌睿</td>\n",
       "      <td>50</td>\n",
       "      <td>2019-04-24</td>\n",
       "      <td>14989</td>\n",
       "      <td>托尼说好要回归家庭、陪伴家人，可最终还是选择了重出江湖，因为责任和使命，因为“我是钢铁侠”。...</td>\n",
       "      <td>335</td>\n",
       "    </tr>\n",
       "    <tr>\n",
       "      <td>2</td>\n",
       "      <td>小轨</td>\n",
       "      <td>30</td>\n",
       "      <td>2019-04-24</td>\n",
       "      <td>14346</td>\n",
       "      <td>不打感情分也就合格水准，通篇流水账观感还不如第三部，虽然我一直认为这类片无所谓剧透，不过为了...</td>\n",
       "      <td>128</td>\n",
       "    </tr>\n",
       "    <tr>\n",
       "      <td>10</td>\n",
       "      <td>Rafe</td>\n",
       "      <td>50</td>\n",
       "      <td>2019-04-24</td>\n",
       "      <td>13367</td>\n",
       "      <td>钢铁侠成为了美队，美队活成了钢铁侠。</td>\n",
       "      <td>18</td>\n",
       "    </tr>\n",
       "    <tr>\n",
       "      <td>11</td>\n",
       "      <td>。</td>\n",
       "      <td>50</td>\n",
       "      <td>2019-04-24</td>\n",
       "      <td>13106</td>\n",
       "      <td>献给我人生中最美好的十一年。谢谢你，漫威，谢谢你让我的青春有了一个最完美的结局</td>\n",
       "      <td>39</td>\n",
       "    </tr>\n",
       "    <tr>\n",
       "      <td>12</td>\n",
       "      <td>KarSa</td>\n",
       "      <td>50</td>\n",
       "      <td>2019-04-24</td>\n",
       "      <td>12035</td>\n",
       "      <td>谁能想到是一只老鼠拯救了地球呢？</td>\n",
       "      <td>16</td>\n",
       "    </tr>\n",
       "    <tr>\n",
       "      <td>13</td>\n",
       "      <td>昊昊的说。</td>\n",
       "      <td>50</td>\n",
       "      <td>2019-04-24</td>\n",
       "      <td>11017</td>\n",
       "      <td>“I AM IRONMAN! ”既是开始也是结束。谢谢钢铁侠，谢谢漫威给我们带来的欢笑、泪水...</td>\n",
       "      <td>64</td>\n",
       "    </tr>\n",
       "    <tr>\n",
       "      <td>14</td>\n",
       "      <td>X教授的傻儿子</td>\n",
       "      <td>50</td>\n",
       "      <td>2019-04-24</td>\n",
       "      <td>9622</td>\n",
       "      <td>五星全给黑寡妇，她是最伟大的复仇者！！！</td>\n",
       "      <td>20</td>\n",
       "    </tr>\n",
       "    <tr>\n",
       "      <td>17</td>\n",
       "      <td>雁落孤山</td>\n",
       "      <td>50</td>\n",
       "      <td>2019-04-24</td>\n",
       "      <td>9555</td>\n",
       "      <td>I AM IRONMAN.</td>\n",
       "      <td>13</td>\n",
       "    </tr>\n",
       "    <tr>\n",
       "      <td>18</td>\n",
       "      <td>梅西</td>\n",
       "      <td>50</td>\n",
       "      <td>2019-04-24</td>\n",
       "      <td>9210</td>\n",
       "      <td>凡人之躯 比肩神明 最后真的泪目</td>\n",
       "      <td>16</td>\n",
       "    </tr>\n",
       "    <tr>\n",
       "      <td>5</td>\n",
       "      <td>深夜的阿斯伯格</td>\n",
       "      <td>40</td>\n",
       "      <td>2019-04-24</td>\n",
       "      <td>6281</td>\n",
       "      <td>对某人而言这就叫有始有终吧，这个时代的星战（90后终于有长达十年的情怀和回忆了）</td>\n",
       "      <td>40</td>\n",
       "    </tr>\n",
       "    <tr>\n",
       "      <td>6</td>\n",
       "      <td>桃桃林林</td>\n",
       "      <td>40</td>\n",
       "      <td>2019-04-24</td>\n",
       "      <td>5984</td>\n",
       "      <td>用三个小时的时间，与大家告别。是集结，是重聚，是告别，是牺牲。作为系列的最终篇，确实已经努力...</td>\n",
       "      <td>80</td>\n",
       "    </tr>\n",
       "    <tr>\n",
       "      <td>7</td>\n",
       "      <td>sunmmr丶sea</td>\n",
       "      <td>40</td>\n",
       "      <td>2019-04-24</td>\n",
       "      <td>5674</td>\n",
       "      <td>搞不懂惊队吹这么久是为什么啥……感觉就是打了个酱油🙄🙄🙄</td>\n",
       "      <td>28</td>\n",
       "    </tr>\n",
       "    <tr>\n",
       "      <td>20</td>\n",
       "      <td>Theo</td>\n",
       "      <td>50</td>\n",
       "      <td>2019-04-24</td>\n",
       "      <td>5644</td>\n",
       "      <td>I love you three thousand times.</td>\n",
       "      <td>32</td>\n",
       "    </tr>\n",
       "  </tbody>\n",
       "</table>\n",
       "</div>"
      ],
      "text/plain": [
       "           评论者  评分        评论时间   有用数量  \\\n",
       "0          棠枫海  50  2019-04-24  34992   \n",
       "1          Tel  40  2019-04-24  19128   \n",
       "4           凌睿  50  2019-04-24  14989   \n",
       "2           小轨  30  2019-04-24  14346   \n",
       "10        Rafe  50  2019-04-24  13367   \n",
       "11           。  50  2019-04-24  13106   \n",
       "12       KarSa  50  2019-04-24  12035   \n",
       "13       昊昊的说。  50  2019-04-24  11017   \n",
       "14     X教授的傻儿子  50  2019-04-24   9622   \n",
       "17        雁落孤山  50  2019-04-24   9555   \n",
       "18          梅西  50  2019-04-24   9210   \n",
       "5      深夜的阿斯伯格  40  2019-04-24   6281   \n",
       "6         桃桃林林  40  2019-04-24   5984   \n",
       "7   sunmmr丶sea  40  2019-04-24   5674   \n",
       "20        Theo  50  2019-04-24   5644   \n",
       "\n",
       "                                                 评论内容  评论字数  \n",
       "0              如果你不喜欢这部电影，说明他不是为你准备的，故事的终章是为读过故事的人准备的    38  \n",
       "1   我是一个90后，我曾经很羡慕“上一代人”：40年前的观众，他们的影院里有星战正传三部曲的落幕...   115  \n",
       "4   托尼说好要回归家庭、陪伴家人，可最终还是选择了重出江湖，因为责任和使命，因为“我是钢铁侠”。...   335  \n",
       "2   不打感情分也就合格水准，通篇流水账观感还不如第三部，虽然我一直认为这类片无所谓剧透，不过为了...   128  \n",
       "10                                 钢铁侠成为了美队，美队活成了钢铁侠。    18  \n",
       "11            献给我人生中最美好的十一年。谢谢你，漫威，谢谢你让我的青春有了一个最完美的结局    39  \n",
       "12                                   谁能想到是一只老鼠拯救了地球呢？    16  \n",
       "13  “I AM IRONMAN! ”既是开始也是结束。谢谢钢铁侠，谢谢漫威给我们带来的欢笑、泪水...    64  \n",
       "14                               五星全给黑寡妇，她是最伟大的复仇者！！！    20  \n",
       "17                                      I AM IRONMAN.    13  \n",
       "18                                   凡人之躯 比肩神明 最后真的泪目    16  \n",
       "5            对某人而言这就叫有始有终吧，这个时代的星战（90后终于有长达十年的情怀和回忆了）    40  \n",
       "6   用三个小时的时间，与大家告别。是集结，是重聚，是告别，是牺牲。作为系列的最终篇，确实已经努力...    80  \n",
       "7                        搞不懂惊队吹这么久是为什么啥……感觉就是打了个酱油🙄🙄🙄    28  \n",
       "20                   I love you three thousand times.    32  "
      ]
     },
     "execution_count": 16,
     "metadata": {},
     "output_type": "execute_result"
    },
    {
     "data": {
      "image/png": "[encoded data removed]",
      "text/plain": [
       "<Figure size 864x360 with 1 Axes>"
      ]
     },
     "metadata": {
      "needs_background": "light"
     },
     "output_type": "display_data"
    }
   ],
   "source": [
    "# 评论字数与有用数量关系\n",
    "\n",
    "plt.figure(figsize = (12,5))\n",
    "plt.title('评论字数与有用数量关系')\n",
    "plt.scatter(df['评论字数'],df['有用数量'],alpha = 0.4)\n",
    "plt.xlabel('评论字数')\n",
    "plt.ylabel('有用数量')\n",
    "plt.grid(linestyle='--')\n",
    "\n",
    "df[df['有用数量']>5000].sort_values(by = '有用数量',ascending = False)"
   ]
  },
  {
   "cell_type": "code",
   "execution_count": 17,
   "metadata": {},
   "outputs": [
    {
     "data": {
      "image/png": "[encoded data removed]",
      "text/plain": [
       "<Figure size 864x360 with 1 Axes>"
      ]
     },
     "metadata": {
      "needs_background": "light"
     },
     "output_type": "display_data"
    }
   ],
   "source": [
    "# 评论字数与评分关系\n",
    "\n",
    "plt.figure(figsize = (12,5))\n",
    "plt.title('评论字数与评分关系')\n",
    "plt.scatter(df['评论字数'],df['评分'],alpha = 0.4)\n",
    "plt.xlabel('评论字数')\n",
    "plt.ylabel('评分')\n",
    "plt.grid(linestyle='--')"
   ]
  },
  {
   "cell_type": "code",
   "execution_count": 18,
   "metadata": {},
   "outputs": [
    {
     "data": {
      "image/png": "[encoded data removed]",
      "text/plain": [
       "<Figure size 864x360 with 1 Axes>"
      ]
     },
     "metadata": {
      "needs_background": "light"
     },
     "output_type": "display_data"
    }
   ],
   "source": [
    "# 评论时间与有用数量关系\n",
    "\n",
    "plt.figure(figsize = (12,5))\n",
    "plt.title('评论时间与有用数量')\n",
    "plt.scatter(df['评论时间'],df['有用数量'],alpha = 0.4,color='red')\n",
    "plt.xlabel('评论时间')\n",
    "plt.ylabel('有用数量')\n",
    "plt.grid(linestyle='--')"
   ]
  },
  {
   "cell_type": "code",
   "execution_count": 19,
   "metadata": {},
   "outputs": [
    {
     "data": {
      "image/png": "[encoded data removed]",
      "text/plain": [
       "<Figure size 864x360 with 1 Axes>"
      ]
     },
     "metadata": {
      "needs_background": "light"
     },
     "output_type": "display_data"
    }
   ],
   "source": [
    "# 评论时间与评分关系\n",
    "\n",
    "plt.figure(figsize = (12,5))\n",
    "plt.title('评论时间与评分关系')\n",
    "plt.scatter(df['评论时间'],df['评分'],alpha = 0.4,color='red')\n",
    "plt.xlabel('评论时间')\n",
    "plt.ylabel('评分')\n",
    "plt.grid(linestyle='--')"
   ]
  },
  {
   "cell_type": "markdown",
   "metadata": {},
   "source": [
    "### 3、关键人物分析"
   ]
  },
  {
   "cell_type": "code",
   "execution_count": 20,
   "metadata": {},
   "outputs": [
    {
     "data": {
      "text/html": [
       "<div>\n",
       "<style scoped>\n",
       "    .dataframe tbody tr th:only-of-type {\n",
       "        vertical-align: middle;\n",
       "    }\n",
       "\n",
       "    .dataframe tbody tr th {\n",
       "        vertical-align: top;\n",
       "    }\n",
       "\n",
       "    .dataframe thead th {\n",
       "        text-align: right;\n",
       "    }\n",
       "</style>\n",
       "<table border=\"1\" class=\"dataframe\">\n",
       "  <thead>\n",
       "    <tr style=\"text-align: right;\">\n",
       "      <th></th>\n",
       "      <th>评论者</th>\n",
       "      <th>评分</th>\n",
       "      <th>评论时间</th>\n",
       "      <th>有用数量</th>\n",
       "      <th>评论内容</th>\n",
       "      <th>评论字数</th>\n",
       "    </tr>\n",
       "  </thead>\n",
       "  <tbody>\n",
       "    <tr>\n",
       "      <td>0</td>\n",
       "      <td>棠枫海</td>\n",
       "      <td>50</td>\n",
       "      <td>2019-04-24</td>\n",
       "      <td>34992</td>\n",
       "      <td>如果你不喜欢这部电影，说明他不是为你准备的，故事的终章是为读过故事的人准备的</td>\n",
       "      <td>38</td>\n",
       "    </tr>\n",
       "    <tr>\n",
       "      <td>1</td>\n",
       "      <td>Tel</td>\n",
       "      <td>40</td>\n",
       "      <td>2019-04-24</td>\n",
       "      <td>19128</td>\n",
       "      <td>我是一个90后，我曾经很羡慕“上一代人”：40年前的观众，他们的影院里有星战正传三部曲的落幕...</td>\n",
       "      <td>115</td>\n",
       "    </tr>\n",
       "    <tr>\n",
       "      <td>2</td>\n",
       "      <td>小轨</td>\n",
       "      <td>30</td>\n",
       "      <td>2019-04-24</td>\n",
       "      <td>14346</td>\n",
       "      <td>不打感情分也就合格水准，通篇流水账观感还不如第三部，虽然我一直认为这类片无所谓剧透，不过为了...</td>\n",
       "      <td>128</td>\n",
       "    </tr>\n",
       "    <tr>\n",
       "      <td>3</td>\n",
       "      <td>感谢政府感谢党</td>\n",
       "      <td>30</td>\n",
       "      <td>2019-04-24</td>\n",
       "      <td>2658</td>\n",
       "      <td>三个小时剧情太拖沓，成了七龙珠寻宝了，堆砌拼凑的剧情，真是不知道浪费睡觉时间来看首映。</td>\n",
       "      <td>43</td>\n",
       "    </tr>\n",
       "    <tr>\n",
       "      <td>4</td>\n",
       "      <td>凌睿</td>\n",
       "      <td>50</td>\n",
       "      <td>2019-04-24</td>\n",
       "      <td>14989</td>\n",
       "      <td>托尼说好要回归家庭、陪伴家人，可最终还是选择了重出江湖，因为责任和使命，因为“我是钢铁侠”。...</td>\n",
       "      <td>335</td>\n",
       "    </tr>\n",
       "  </tbody>\n",
       "</table>\n",
       "</div>"
      ],
      "text/plain": [
       "       评论者  评分        评论时间   有用数量  \\\n",
       "0      棠枫海  50  2019-04-24  34992   \n",
       "1      Tel  40  2019-04-24  19128   \n",
       "2       小轨  30  2019-04-24  14346   \n",
       "3  感谢政府感谢党  30  2019-04-24   2658   \n",
       "4       凌睿  50  2019-04-24  14989   \n",
       "\n",
       "                                                评论内容  评论字数  \n",
       "0             如果你不喜欢这部电影，说明他不是为你准备的，故事的终章是为读过故事的人准备的    38  \n",
       "1  我是一个90后，我曾经很羡慕“上一代人”：40年前的观众，他们的影院里有星战正传三部曲的落幕...   115  \n",
       "2  不打感情分也就合格水准，通篇流水账观感还不如第三部，虽然我一直认为这类片无所谓剧透，不过为了...   128  \n",
       "3        三个小时剧情太拖沓，成了七龙珠寻宝了，堆砌拼凑的剧情，真是不知道浪费睡觉时间来看首映。    43  \n",
       "4  托尼说好要回归家庭、陪伴家人，可最终还是选择了重出江湖，因为责任和使命，因为“我是钢铁侠”。...   335  "
      ]
     },
     "execution_count": 20,
     "metadata": {},
     "output_type": "execute_result"
    }
   ],
   "source": [
    "df.head()"
   ]
  },
  {
   "cell_type": "code",
   "execution_count": 21,
   "metadata": {},
   "outputs": [
    {
     "name": "stdout",
     "output_type": "stream",
     "text": [
      "180\n",
      "12\n"
     ]
    }
   ],
   "source": [
    "keyword = '灭霸'\n",
    "n = 0\n",
    "for i in df['评论内容']:\n",
    "    if keyword in i:\n",
    "        n += 1\n",
    "print(len(df))\n",
    "print(n)"
   ]
  },
  {
   "cell_type": "code",
   "execution_count": 22,
   "metadata": {},
   "outputs": [
    {
     "data": {
      "text/plain": [
       "16"
      ]
     },
     "execution_count": 22,
     "metadata": {},
     "output_type": "execute_result"
    }
   ],
   "source": [
    "# 创建函数查找文字出现次数\n",
    "\n",
    "def name_count(namei,s):\n",
    "    n = 0\n",
    "    for i in s:\n",
    "        if namei in i:\n",
    "            n += 1\n",
    "    return n\n",
    "\n",
    "name_count('美队',df['评论内容'])"
   ]
  },
  {
   "cell_type": "code",
   "execution_count": 23,
   "metadata": {},
   "outputs": [
    {
     "name": "stdout",
     "output_type": "stream",
     "text": [
      "美队 16\n",
      "钢铁侠 20\n",
      "灭霸 12\n",
      "黑寡妇 10\n",
      "雷神 16\n",
      "浩克 2\n",
      "惊奇队长 12\n",
      "鹰眼 7\n",
      "蚁人 8\n",
      "奇异博士 2\n",
      "蜘蛛侠 2\n",
      "星云 2\n",
      "黑豹 1\n"
     ]
    }
   ],
   "source": [
    "namelst = ['美队','钢铁侠','灭霸','黑寡妇','雷神','浩克','惊奇队长',\n",
    "            '鹰眼','蚁人','奇异博士','蜘蛛侠','星云','黑豹']\n",
    "            \n",
    "for i in namelst:\n",
    "    print(i,name_count(i,df['评论内容']))"
   ]
  },
  {
   "cell_type": "code",
   "execution_count": 24,
   "metadata": {},
   "outputs": [
    {
     "data": {
      "text/plain": [
       "[{'关键词': '美队', '出现频率': 16},\n",
       " {'关键词': '钢铁侠', '出现频率': 20},\n",
       " {'关键词': '灭霸', '出现频率': 12},\n",
       " {'关键词': '黑寡妇', '出现频率': 10},\n",
       " {'关键词': '雷神', '出现频率': 16},\n",
       " {'关键词': '浩克', '出现频率': 2},\n",
       " {'关键词': '惊奇队长', '出现频率': 12},\n",
       " {'关键词': '鹰眼', '出现频率': 7},\n",
       " {'关键词': '蚁人', '出现频率': 8},\n",
       " {'关键词': '奇异博士', '出现频率': 2},\n",
       " {'关键词': '蜘蛛侠', '出现频率': 2},\n",
       " {'关键词': '星云', '出现频率': 2},\n",
       " {'关键词': '黑豹', '出现频率': 1}]"
      ]
     },
     "execution_count": 24,
     "metadata": {},
     "output_type": "execute_result"
    }
   ],
   "source": [
    "# 计算不同关键字出现频率\n",
    "\n",
    "namelst = ['美队','钢铁侠','灭霸','黑寡妇','雷神','浩克','惊奇队长',\n",
    "            '鹰眼','蚁人','奇异博士','蜘蛛侠','星云','黑豹']\n",
    "\n",
    "lst = []\n",
    "for namei in namelst:\n",
    "    lst.append({'关键词': namei,'出现频率': name_count(namei,df['评论内容'])})\n",
    "\n",
    "lst"
   ]
  },
  {
   "cell_type": "code",
   "execution_count": 25,
   "metadata": {},
   "outputs": [
    {
     "data": {
      "text/html": [
       "<div>\n",
       "<style scoped>\n",
       "    .dataframe tbody tr th:only-of-type {\n",
       "        vertical-align: middle;\n",
       "    }\n",
       "\n",
       "    .dataframe tbody tr th {\n",
       "        vertical-align: top;\n",
       "    }\n",
       "\n",
       "    .dataframe thead th {\n",
       "        text-align: right;\n",
       "    }\n",
       "</style>\n",
       "<table border=\"1\" class=\"dataframe\">\n",
       "  <thead>\n",
       "    <tr style=\"text-align: right;\">\n",
       "      <th></th>\n",
       "      <th>关键词</th>\n",
       "      <th>出现频率</th>\n",
       "    </tr>\n",
       "  </thead>\n",
       "  <tbody>\n",
       "    <tr>\n",
       "      <td>0</td>\n",
       "      <td>美队</td>\n",
       "      <td>16</td>\n",
       "    </tr>\n",
       "    <tr>\n",
       "      <td>1</td>\n",
       "      <td>钢铁侠</td>\n",
       "      <td>20</td>\n",
       "    </tr>\n",
       "    <tr>\n",
       "      <td>2</td>\n",
       "      <td>灭霸</td>\n",
       "      <td>12</td>\n",
       "    </tr>\n",
       "    <tr>\n",
       "      <td>3</td>\n",
       "      <td>黑寡妇</td>\n",
       "      <td>10</td>\n",
       "    </tr>\n",
       "    <tr>\n",
       "      <td>4</td>\n",
       "      <td>雷神</td>\n",
       "      <td>16</td>\n",
       "    </tr>\n",
       "    <tr>\n",
       "      <td>5</td>\n",
       "      <td>浩克</td>\n",
       "      <td>2</td>\n",
       "    </tr>\n",
       "    <tr>\n",
       "      <td>6</td>\n",
       "      <td>惊奇队长</td>\n",
       "      <td>12</td>\n",
       "    </tr>\n",
       "    <tr>\n",
       "      <td>7</td>\n",
       "      <td>鹰眼</td>\n",
       "      <td>7</td>\n",
       "    </tr>\n",
       "    <tr>\n",
       "      <td>8</td>\n",
       "      <td>蚁人</td>\n",
       "      <td>8</td>\n",
       "    </tr>\n",
       "    <tr>\n",
       "      <td>9</td>\n",
       "      <td>奇异博士</td>\n",
       "      <td>2</td>\n",
       "    </tr>\n",
       "    <tr>\n",
       "      <td>10</td>\n",
       "      <td>蜘蛛侠</td>\n",
       "      <td>2</td>\n",
       "    </tr>\n",
       "    <tr>\n",
       "      <td>11</td>\n",
       "      <td>星云</td>\n",
       "      <td>2</td>\n",
       "    </tr>\n",
       "    <tr>\n",
       "      <td>12</td>\n",
       "      <td>黑豹</td>\n",
       "      <td>1</td>\n",
       "    </tr>\n",
       "  </tbody>\n",
       "</table>\n",
       "</div>"
      ],
      "text/plain": [
       "     关键词  出现频率\n",
       "0     美队    16\n",
       "1    钢铁侠    20\n",
       "2     灭霸    12\n",
       "3    黑寡妇    10\n",
       "4     雷神    16\n",
       "5     浩克     2\n",
       "6   惊奇队长    12\n",
       "7     鹰眼     7\n",
       "8     蚁人     8\n",
       "9   奇异博士     2\n",
       "10   蜘蛛侠     2\n",
       "11    星云     2\n",
       "12    黑豹     1"
      ]
     },
     "execution_count": 25,
     "metadata": {},
     "output_type": "execute_result"
    }
   ],
   "source": [
    "pd.DataFrame(lst)"
   ]
  },
  {
   "cell_type": "code",
   "execution_count": 28,
   "metadata": {},
   "outputs": [],
   "source": [
    "result = pd.DataFrame(lst)\n",
    "result.to_csv('E:/Python/妇联4短评数据采集及分析/result.csv')"
   ]
  },
  {
   "cell_type": "code",
   "execution_count": 29,
   "metadata": {},
   "outputs": [
    {
     "name": "stdout",
     "output_type": "stream",
     "text": [
      "美队   16\n",
      "钢铁侠   20\n",
      "灭霸   12\n",
      "黑寡妇   10\n",
      "雷神   16\n",
      "浩克   2\n",
      "惊奇队长   12\n",
      "鹰眼   7\n",
      "蚁人   8\n",
      "奇异博士   2\n",
      "蜘蛛侠   2\n",
      "星云   2\n",
      "黑豹   1\n"
     ]
    }
   ],
   "source": [
    "for i in lst:\n",
    "    print(i['关键词'],' ',i['出现频率'])"
   ]
  }
 ],
 "metadata": {
  "kernelspec": {
   "display_name": "Python 3",
   "language": "python",
   "name": "python3"
  },
  "language_info": {
   "codemirror_mode": {
    "name": "ipython",
    "version": 3
   },
   "file_extension": ".py",
   "mimetype": "text/x-python",
   "name": "python",
   "nbconvert_exporter": "python",
   "pygments_lexer": "ipython3",
   "version": "3.7.4"
  }
 },
 "nbformat": 4,
 "nbformat_minor": 2
}
